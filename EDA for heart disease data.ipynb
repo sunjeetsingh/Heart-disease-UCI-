{
 "cells": [
  {
   "cell_type": "code",
   "execution_count": 1,
   "metadata": {},
   "outputs": [],
   "source": [
    "import numpy as np\n",
    "import pandas as pd\n",
    "import matplotlib.pyplot as plt\n",
    "import seaborn as sns\n",
    "%matplotlib inline"
   ]
  },
  {
   "cell_type": "code",
   "execution_count": 2,
   "metadata": {},
   "outputs": [],
   "source": [
    "df = pd.read_csv(r\"C:\\Users\\HP\\Desktop\\datasets\\heart.csv\")"
   ]
  },
  {
   "cell_type": "code",
   "execution_count": 3,
   "metadata": {},
   "outputs": [
    {
     "data": {
      "text/html": [
       "<div>\n",
       "<style scoped>\n",
       "    .dataframe tbody tr th:only-of-type {\n",
       "        vertical-align: middle;\n",
       "    }\n",
       "\n",
       "    .dataframe tbody tr th {\n",
       "        vertical-align: top;\n",
       "    }\n",
       "\n",
       "    .dataframe thead th {\n",
       "        text-align: right;\n",
       "    }\n",
       "</style>\n",
       "<table border=\"1\" class=\"dataframe\">\n",
       "  <thead>\n",
       "    <tr style=\"text-align: right;\">\n",
       "      <th></th>\n",
       "      <th>age</th>\n",
       "      <th>sex</th>\n",
       "      <th>cp</th>\n",
       "      <th>trestbps</th>\n",
       "      <th>chol</th>\n",
       "      <th>fbs</th>\n",
       "      <th>restecg</th>\n",
       "      <th>thalach</th>\n",
       "      <th>exang</th>\n",
       "      <th>oldpeak</th>\n",
       "      <th>slope</th>\n",
       "      <th>ca</th>\n",
       "      <th>thal</th>\n",
       "      <th>target</th>\n",
       "    </tr>\n",
       "  </thead>\n",
       "  <tbody>\n",
       "    <tr>\n",
       "      <th>0</th>\n",
       "      <td>63</td>\n",
       "      <td>1</td>\n",
       "      <td>3</td>\n",
       "      <td>145</td>\n",
       "      <td>233</td>\n",
       "      <td>1</td>\n",
       "      <td>0</td>\n",
       "      <td>150</td>\n",
       "      <td>0</td>\n",
       "      <td>2.3</td>\n",
       "      <td>0</td>\n",
       "      <td>0</td>\n",
       "      <td>1</td>\n",
       "      <td>1</td>\n",
       "    </tr>\n",
       "    <tr>\n",
       "      <th>1</th>\n",
       "      <td>37</td>\n",
       "      <td>1</td>\n",
       "      <td>2</td>\n",
       "      <td>130</td>\n",
       "      <td>250</td>\n",
       "      <td>0</td>\n",
       "      <td>1</td>\n",
       "      <td>187</td>\n",
       "      <td>0</td>\n",
       "      <td>3.5</td>\n",
       "      <td>0</td>\n",
       "      <td>0</td>\n",
       "      <td>2</td>\n",
       "      <td>1</td>\n",
       "    </tr>\n",
       "    <tr>\n",
       "      <th>2</th>\n",
       "      <td>41</td>\n",
       "      <td>0</td>\n",
       "      <td>1</td>\n",
       "      <td>130</td>\n",
       "      <td>204</td>\n",
       "      <td>0</td>\n",
       "      <td>0</td>\n",
       "      <td>172</td>\n",
       "      <td>0</td>\n",
       "      <td>1.4</td>\n",
       "      <td>2</td>\n",
       "      <td>0</td>\n",
       "      <td>2</td>\n",
       "      <td>1</td>\n",
       "    </tr>\n",
       "    <tr>\n",
       "      <th>3</th>\n",
       "      <td>56</td>\n",
       "      <td>1</td>\n",
       "      <td>1</td>\n",
       "      <td>120</td>\n",
       "      <td>236</td>\n",
       "      <td>0</td>\n",
       "      <td>1</td>\n",
       "      <td>178</td>\n",
       "      <td>0</td>\n",
       "      <td>0.8</td>\n",
       "      <td>2</td>\n",
       "      <td>0</td>\n",
       "      <td>2</td>\n",
       "      <td>1</td>\n",
       "    </tr>\n",
       "    <tr>\n",
       "      <th>4</th>\n",
       "      <td>57</td>\n",
       "      <td>0</td>\n",
       "      <td>0</td>\n",
       "      <td>120</td>\n",
       "      <td>354</td>\n",
       "      <td>0</td>\n",
       "      <td>1</td>\n",
       "      <td>163</td>\n",
       "      <td>1</td>\n",
       "      <td>0.6</td>\n",
       "      <td>2</td>\n",
       "      <td>0</td>\n",
       "      <td>2</td>\n",
       "      <td>1</td>\n",
       "    </tr>\n",
       "  </tbody>\n",
       "</table>\n",
       "</div>"
      ],
      "text/plain": [
       "   age  sex  cp  trestbps  chol  fbs  restecg  thalach  exang  oldpeak  slope  \\\n",
       "0   63    1   3       145   233    1        0      150      0      2.3      0   \n",
       "1   37    1   2       130   250    0        1      187      0      3.5      0   \n",
       "2   41    0   1       130   204    0        0      172      0      1.4      2   \n",
       "3   56    1   1       120   236    0        1      178      0      0.8      2   \n",
       "4   57    0   0       120   354    0        1      163      1      0.6      2   \n",
       "\n",
       "   ca  thal  target  \n",
       "0   0     1       1  \n",
       "1   0     2       1  \n",
       "2   0     2       1  \n",
       "3   0     2       1  \n",
       "4   0     2       1  "
      ]
     },
     "execution_count": 3,
     "metadata": {},
     "output_type": "execute_result"
    }
   ],
   "source": [
    "df.head()"
   ]
  },
  {
   "cell_type": "code",
   "execution_count": 4,
   "metadata": {},
   "outputs": [],
   "source": [
    "df = df.rename(columns = {\"age\":\"Age\", \"sex\": \"Sex\", \"cp\":\"Chest_pain\", \"trestbps\":\"Resting_BP\", \"chol\":\"Cholestrol\", \"fbs\":\"Fasting_blood_sugar\", \"restecg\":\"ECG_result\", \"thalach\":\"Max_heartrate\", \"exang\":\"Exercise_induced_agina\", \"oldpeak\":\"ECG difference\", \"ca\":\"Blocked vessels\",\"slope\":\"Slope\", \"thal\":\"Thalassemia\", \"target\":\"Target\"})\n",
    "#renaming columns"
   ]
  },
  {
   "cell_type": "code",
   "execution_count": 5,
   "metadata": {},
   "outputs": [
    {
     "data": {
      "text/html": [
       "<div>\n",
       "<style scoped>\n",
       "    .dataframe tbody tr th:only-of-type {\n",
       "        vertical-align: middle;\n",
       "    }\n",
       "\n",
       "    .dataframe tbody tr th {\n",
       "        vertical-align: top;\n",
       "    }\n",
       "\n",
       "    .dataframe thead th {\n",
       "        text-align: right;\n",
       "    }\n",
       "</style>\n",
       "<table border=\"1\" class=\"dataframe\">\n",
       "  <thead>\n",
       "    <tr style=\"text-align: right;\">\n",
       "      <th></th>\n",
       "      <th>Age</th>\n",
       "      <th>Sex</th>\n",
       "      <th>Chest_pain</th>\n",
       "      <th>Resting_BP</th>\n",
       "      <th>Cholestrol</th>\n",
       "      <th>Fasting_blood_sugar</th>\n",
       "      <th>ECG_result</th>\n",
       "      <th>Max_heartrate</th>\n",
       "      <th>Exercise_induced_agina</th>\n",
       "      <th>ECG difference</th>\n",
       "      <th>Slope</th>\n",
       "      <th>Blocked vessels</th>\n",
       "      <th>Thalassemia</th>\n",
       "      <th>Target</th>\n",
       "    </tr>\n",
       "  </thead>\n",
       "  <tbody>\n",
       "    <tr>\n",
       "      <th>0</th>\n",
       "      <td>63</td>\n",
       "      <td>1</td>\n",
       "      <td>3</td>\n",
       "      <td>145</td>\n",
       "      <td>233</td>\n",
       "      <td>1</td>\n",
       "      <td>0</td>\n",
       "      <td>150</td>\n",
       "      <td>0</td>\n",
       "      <td>2.3</td>\n",
       "      <td>0</td>\n",
       "      <td>0</td>\n",
       "      <td>1</td>\n",
       "      <td>1</td>\n",
       "    </tr>\n",
       "    <tr>\n",
       "      <th>1</th>\n",
       "      <td>37</td>\n",
       "      <td>1</td>\n",
       "      <td>2</td>\n",
       "      <td>130</td>\n",
       "      <td>250</td>\n",
       "      <td>0</td>\n",
       "      <td>1</td>\n",
       "      <td>187</td>\n",
       "      <td>0</td>\n",
       "      <td>3.5</td>\n",
       "      <td>0</td>\n",
       "      <td>0</td>\n",
       "      <td>2</td>\n",
       "      <td>1</td>\n",
       "    </tr>\n",
       "    <tr>\n",
       "      <th>2</th>\n",
       "      <td>41</td>\n",
       "      <td>0</td>\n",
       "      <td>1</td>\n",
       "      <td>130</td>\n",
       "      <td>204</td>\n",
       "      <td>0</td>\n",
       "      <td>0</td>\n",
       "      <td>172</td>\n",
       "      <td>0</td>\n",
       "      <td>1.4</td>\n",
       "      <td>2</td>\n",
       "      <td>0</td>\n",
       "      <td>2</td>\n",
       "      <td>1</td>\n",
       "    </tr>\n",
       "    <tr>\n",
       "      <th>3</th>\n",
       "      <td>56</td>\n",
       "      <td>1</td>\n",
       "      <td>1</td>\n",
       "      <td>120</td>\n",
       "      <td>236</td>\n",
       "      <td>0</td>\n",
       "      <td>1</td>\n",
       "      <td>178</td>\n",
       "      <td>0</td>\n",
       "      <td>0.8</td>\n",
       "      <td>2</td>\n",
       "      <td>0</td>\n",
       "      <td>2</td>\n",
       "      <td>1</td>\n",
       "    </tr>\n",
       "    <tr>\n",
       "      <th>4</th>\n",
       "      <td>57</td>\n",
       "      <td>0</td>\n",
       "      <td>0</td>\n",
       "      <td>120</td>\n",
       "      <td>354</td>\n",
       "      <td>0</td>\n",
       "      <td>1</td>\n",
       "      <td>163</td>\n",
       "      <td>1</td>\n",
       "      <td>0.6</td>\n",
       "      <td>2</td>\n",
       "      <td>0</td>\n",
       "      <td>2</td>\n",
       "      <td>1</td>\n",
       "    </tr>\n",
       "  </tbody>\n",
       "</table>\n",
       "</div>"
      ],
      "text/plain": [
       "   Age  Sex  Chest_pain  Resting_BP  Cholestrol  Fasting_blood_sugar  \\\n",
       "0   63    1           3         145         233                    1   \n",
       "1   37    1           2         130         250                    0   \n",
       "2   41    0           1         130         204                    0   \n",
       "3   56    1           1         120         236                    0   \n",
       "4   57    0           0         120         354                    0   \n",
       "\n",
       "   ECG_result  Max_heartrate  Exercise_induced_agina  ECG difference  Slope  \\\n",
       "0           0            150                       0             2.3      0   \n",
       "1           1            187                       0             3.5      0   \n",
       "2           0            172                       0             1.4      2   \n",
       "3           1            178                       0             0.8      2   \n",
       "4           1            163                       1             0.6      2   \n",
       "\n",
       "   Blocked vessels  Thalassemia  Target  \n",
       "0                0            1       1  \n",
       "1                0            2       1  \n",
       "2                0            2       1  \n",
       "3                0            2       1  \n",
       "4                0            2       1  "
      ]
     },
     "execution_count": 5,
     "metadata": {},
     "output_type": "execute_result"
    }
   ],
   "source": [
    "df.head()"
   ]
  },
  {
   "cell_type": "code",
   "execution_count": 6,
   "metadata": {},
   "outputs": [],
   "source": [
    "df1 = df.copy()\n",
    "df2 = df.copy() #Making copies for later use"
   ]
  },
  {
   "cell_type": "code",
   "execution_count": 88,
   "metadata": {},
   "outputs": [
    {
     "name": "stdout",
     "output_type": "stream",
     "text": [
      "<class 'pandas.core.frame.DataFrame'>\n",
      "RangeIndex: 303 entries, 0 to 302\n",
      "Data columns (total 14 columns):\n",
      " #   Column                  Non-Null Count  Dtype  \n",
      "---  ------                  --------------  -----  \n",
      " 0   Age                     303 non-null    int64  \n",
      " 1   Sex                     303 non-null    int64  \n",
      " 2   Chest_pain              303 non-null    int64  \n",
      " 3   Resting_BP              303 non-null    int64  \n",
      " 4   Cholestrol              303 non-null    int64  \n",
      " 5   Fasting_blood_sugar     303 non-null    int64  \n",
      " 6   ECG_result              303 non-null    int64  \n",
      " 7   Max_heartrate           303 non-null    int64  \n",
      " 8   Exercise_induced_agina  303 non-null    int64  \n",
      " 9   ECG difference          303 non-null    float64\n",
      " 10  Slope                   303 non-null    int64  \n",
      " 11  Blocked vessels         303 non-null    int64  \n",
      " 12  Thalassemia             303 non-null    int64  \n",
      " 13  Target                  303 non-null    int64  \n",
      "dtypes: float64(1), int64(13)\n",
      "memory usage: 33.2 KB\n"
     ]
    }
   ],
   "source": [
    "df.info()"
   ]
  },
  {
   "cell_type": "markdown",
   "metadata": {},
   "source": [
    "we can see that the columns don't have any null values and the datatype is int and float, so that we don't have to deal with null values and change data types\n"
   ]
  },
  {
   "cell_type": "code",
   "execution_count": 96,
   "metadata": {},
   "outputs": [
    {
     "data": {
      "text/html": [
       "<div>\n",
       "<style scoped>\n",
       "    .dataframe tbody tr th:only-of-type {\n",
       "        vertical-align: middle;\n",
       "    }\n",
       "\n",
       "    .dataframe tbody tr th {\n",
       "        vertical-align: top;\n",
       "    }\n",
       "\n",
       "    .dataframe thead th {\n",
       "        text-align: right;\n",
       "    }\n",
       "</style>\n",
       "<table border=\"1\" class=\"dataframe\">\n",
       "  <thead>\n",
       "    <tr style=\"text-align: right;\">\n",
       "      <th></th>\n",
       "      <th>Age</th>\n",
       "      <th>Sex</th>\n",
       "      <th>Chest_pain</th>\n",
       "      <th>Resting_BP</th>\n",
       "      <th>Cholestrol</th>\n",
       "      <th>Fasting_blood_sugar</th>\n",
       "      <th>ECG_result</th>\n",
       "      <th>Max_heartrate</th>\n",
       "      <th>Exercise_induced_agina</th>\n",
       "      <th>ECG difference</th>\n",
       "      <th>Slope</th>\n",
       "      <th>Blocked vessels</th>\n",
       "      <th>Thalassemia</th>\n",
       "      <th>Target</th>\n",
       "    </tr>\n",
       "  </thead>\n",
       "  <tbody>\n",
       "    <tr>\n",
       "      <th>count</th>\n",
       "      <td>303.000000</td>\n",
       "      <td>303.000000</td>\n",
       "      <td>303.000000</td>\n",
       "      <td>303.000000</td>\n",
       "      <td>303.000000</td>\n",
       "      <td>303.000000</td>\n",
       "      <td>303.000000</td>\n",
       "      <td>303.000000</td>\n",
       "      <td>303.000000</td>\n",
       "      <td>303.000000</td>\n",
       "      <td>303.000000</td>\n",
       "      <td>303.000000</td>\n",
       "      <td>303.000000</td>\n",
       "      <td>303.000000</td>\n",
       "    </tr>\n",
       "    <tr>\n",
       "      <th>mean</th>\n",
       "      <td>54.366337</td>\n",
       "      <td>0.683168</td>\n",
       "      <td>0.966997</td>\n",
       "      <td>131.623762</td>\n",
       "      <td>246.264026</td>\n",
       "      <td>0.148515</td>\n",
       "      <td>0.528053</td>\n",
       "      <td>149.646865</td>\n",
       "      <td>0.326733</td>\n",
       "      <td>1.039604</td>\n",
       "      <td>1.399340</td>\n",
       "      <td>0.729373</td>\n",
       "      <td>2.313531</td>\n",
       "      <td>0.544554</td>\n",
       "    </tr>\n",
       "    <tr>\n",
       "      <th>std</th>\n",
       "      <td>9.082101</td>\n",
       "      <td>0.466011</td>\n",
       "      <td>1.032052</td>\n",
       "      <td>17.538143</td>\n",
       "      <td>51.830751</td>\n",
       "      <td>0.356198</td>\n",
       "      <td>0.525860</td>\n",
       "      <td>22.905161</td>\n",
       "      <td>0.469794</td>\n",
       "      <td>1.161075</td>\n",
       "      <td>0.616226</td>\n",
       "      <td>1.022606</td>\n",
       "      <td>0.612277</td>\n",
       "      <td>0.498835</td>\n",
       "    </tr>\n",
       "    <tr>\n",
       "      <th>min</th>\n",
       "      <td>29.000000</td>\n",
       "      <td>0.000000</td>\n",
       "      <td>0.000000</td>\n",
       "      <td>94.000000</td>\n",
       "      <td>126.000000</td>\n",
       "      <td>0.000000</td>\n",
       "      <td>0.000000</td>\n",
       "      <td>71.000000</td>\n",
       "      <td>0.000000</td>\n",
       "      <td>0.000000</td>\n",
       "      <td>0.000000</td>\n",
       "      <td>0.000000</td>\n",
       "      <td>0.000000</td>\n",
       "      <td>0.000000</td>\n",
       "    </tr>\n",
       "    <tr>\n",
       "      <th>25%</th>\n",
       "      <td>47.500000</td>\n",
       "      <td>0.000000</td>\n",
       "      <td>0.000000</td>\n",
       "      <td>120.000000</td>\n",
       "      <td>211.000000</td>\n",
       "      <td>0.000000</td>\n",
       "      <td>0.000000</td>\n",
       "      <td>133.500000</td>\n",
       "      <td>0.000000</td>\n",
       "      <td>0.000000</td>\n",
       "      <td>1.000000</td>\n",
       "      <td>0.000000</td>\n",
       "      <td>2.000000</td>\n",
       "      <td>0.000000</td>\n",
       "    </tr>\n",
       "    <tr>\n",
       "      <th>50%</th>\n",
       "      <td>55.000000</td>\n",
       "      <td>1.000000</td>\n",
       "      <td>1.000000</td>\n",
       "      <td>130.000000</td>\n",
       "      <td>240.000000</td>\n",
       "      <td>0.000000</td>\n",
       "      <td>1.000000</td>\n",
       "      <td>153.000000</td>\n",
       "      <td>0.000000</td>\n",
       "      <td>0.800000</td>\n",
       "      <td>1.000000</td>\n",
       "      <td>0.000000</td>\n",
       "      <td>2.000000</td>\n",
       "      <td>1.000000</td>\n",
       "    </tr>\n",
       "    <tr>\n",
       "      <th>75%</th>\n",
       "      <td>61.000000</td>\n",
       "      <td>1.000000</td>\n",
       "      <td>2.000000</td>\n",
       "      <td>140.000000</td>\n",
       "      <td>274.500000</td>\n",
       "      <td>0.000000</td>\n",
       "      <td>1.000000</td>\n",
       "      <td>166.000000</td>\n",
       "      <td>1.000000</td>\n",
       "      <td>1.600000</td>\n",
       "      <td>2.000000</td>\n",
       "      <td>1.000000</td>\n",
       "      <td>3.000000</td>\n",
       "      <td>1.000000</td>\n",
       "    </tr>\n",
       "    <tr>\n",
       "      <th>max</th>\n",
       "      <td>77.000000</td>\n",
       "      <td>1.000000</td>\n",
       "      <td>3.000000</td>\n",
       "      <td>200.000000</td>\n",
       "      <td>564.000000</td>\n",
       "      <td>1.000000</td>\n",
       "      <td>2.000000</td>\n",
       "      <td>202.000000</td>\n",
       "      <td>1.000000</td>\n",
       "      <td>6.200000</td>\n",
       "      <td>2.000000</td>\n",
       "      <td>4.000000</td>\n",
       "      <td>3.000000</td>\n",
       "      <td>1.000000</td>\n",
       "    </tr>\n",
       "  </tbody>\n",
       "</table>\n",
       "</div>"
      ],
      "text/plain": [
       "              Age         Sex  Chest_pain  Resting_BP  Cholestrol  \\\n",
       "count  303.000000  303.000000  303.000000  303.000000  303.000000   \n",
       "mean    54.366337    0.683168    0.966997  131.623762  246.264026   \n",
       "std      9.082101    0.466011    1.032052   17.538143   51.830751   \n",
       "min     29.000000    0.000000    0.000000   94.000000  126.000000   \n",
       "25%     47.500000    0.000000    0.000000  120.000000  211.000000   \n",
       "50%     55.000000    1.000000    1.000000  130.000000  240.000000   \n",
       "75%     61.000000    1.000000    2.000000  140.000000  274.500000   \n",
       "max     77.000000    1.000000    3.000000  200.000000  564.000000   \n",
       "\n",
       "       Fasting_blood_sugar  ECG_result  Max_heartrate  Exercise_induced_agina  \\\n",
       "count           303.000000  303.000000     303.000000              303.000000   \n",
       "mean              0.148515    0.528053     149.646865                0.326733   \n",
       "std               0.356198    0.525860      22.905161                0.469794   \n",
       "min               0.000000    0.000000      71.000000                0.000000   \n",
       "25%               0.000000    0.000000     133.500000                0.000000   \n",
       "50%               0.000000    1.000000     153.000000                0.000000   \n",
       "75%               0.000000    1.000000     166.000000                1.000000   \n",
       "max               1.000000    2.000000     202.000000                1.000000   \n",
       "\n",
       "       ECG difference       Slope  Blocked vessels  Thalassemia      Target  \n",
       "count      303.000000  303.000000       303.000000   303.000000  303.000000  \n",
       "mean         1.039604    1.399340         0.729373     2.313531    0.544554  \n",
       "std          1.161075    0.616226         1.022606     0.612277    0.498835  \n",
       "min          0.000000    0.000000         0.000000     0.000000    0.000000  \n",
       "25%          0.000000    1.000000         0.000000     2.000000    0.000000  \n",
       "50%          0.800000    1.000000         0.000000     2.000000    1.000000  \n",
       "75%          1.600000    2.000000         1.000000     3.000000    1.000000  \n",
       "max          6.200000    2.000000         4.000000     3.000000    1.000000  "
      ]
     },
     "execution_count": 96,
     "metadata": {},
     "output_type": "execute_result"
    }
   ],
   "source": [
    "df.describe()"
   ]
  },
  {
   "cell_type": "markdown",
   "metadata": {},
   "source": [
    "we can see that there is huge difference between the 50% and 75% of Cholestrol and ECG_difference which suggests that there are outliers, to confirm this, we will plot a boxplot"
   ]
  },
  {
   "cell_type": "code",
   "execution_count": 112,
   "metadata": {
    "scrolled": true
   },
   "outputs": [
    {
     "data": {
      "text/plain": [
       "<matplotlib.axes._subplots.AxesSubplot at 0x1b87e4d0>"
      ]
     },
     "execution_count": 112,
     "metadata": {},
     "output_type": "execute_result"
    },
    {
     "data": {
      "image/png": "[encoded data removed]",
      "text/plain": [
       "<Figure size 432x288 with 1 Axes>"
      ]
     },
     "metadata": {
      "needs_background": "light"
     },
     "output_type": "display_data"
    }
   ],
   "source": [
    "sns.boxplot(x = df[\"Cholestrol\"])"
   ]
  },
  {
   "cell_type": "code",
   "execution_count": 111,
   "metadata": {},
   "outputs": [
    {
     "data": {
      "text/plain": [
       "<matplotlib.axes._subplots.AxesSubplot at 0x1b67b1b0>"
      ]
     },
     "execution_count": 111,
     "metadata": {},
     "output_type": "execute_result"
    },
    {
     "data": {
      "image/png": "[encoded data removed]",
      "text/plain": [
       "<Figure size 432x288 with 1 Axes>"
      ]
     },
     "metadata": {
      "needs_background": "light"
     },
     "output_type": "display_data"
    }
   ],
   "source": [
    "sns.boxplot(x = df[\"ECG difference\"])"
   ]
  },
  {
   "cell_type": "markdown",
   "metadata": {},
   "source": [
    "As evident from the above 2 plots, there are certain outliers in both cholestrol and ECG difference which can be dealt with while modelling"
   ]
  },
  {
   "cell_type": "code",
   "execution_count": 94,
   "metadata": {},
   "outputs": [
    {
     "data": {
      "text/plain": [
       "<matplotlib.axes._subplots.AxesSubplot at 0x1a51cdb0>"
      ]
     },
     "execution_count": 94,
     "metadata": {},
     "output_type": "execute_result"
    },
    {
     "data": {
      "image/png": "[encoded data removed]",
      "text/plain": [
       "<Figure size 1440x720 with 2 Axes>"
      ]
     },
     "metadata": {
      "needs_background": "light"
     },
     "output_type": "display_data"
    }
   ],
   "source": [
    "df.corr()\n",
    "plt.figure(figsize = (20,10))\n",
    "sns.heatmap(df.corr(), annot = True)"
   ]
  },
  {
   "cell_type": "markdown",
   "metadata": {},
   "source": [
    "# Univariate Analysis"
   ]
  },
  {
   "cell_type": "code",
   "execution_count": 113,
   "metadata": {},
   "outputs": [
    {
     "data": {
      "text/plain": [
       "1    207\n",
       "0     96\n",
       "Name: Sex, dtype: int64"
      ]
     },
     "execution_count": 113,
     "metadata": {},
     "output_type": "execute_result"
    },
    {
     "data": {
      "image/png": "[encoded data removed]",
      "text/plain": [
       "<Figure size 432x288 with 1 Axes>"
      ]
     },
     "metadata": {
      "needs_background": "light"
     },
     "output_type": "display_data"
    }
   ],
   "source": [
    "plt.hist(df[\"Sex\"])\n",
    "df[\"Sex\"].value_counts()"
   ]
  },
  {
   "cell_type": "markdown",
   "metadata": {},
   "source": [
    "we can see that there are more males in our obeservation than females"
   ]
  },
  {
   "cell_type": "code",
   "execution_count": 7,
   "metadata": {},
   "outputs": [
    {
     "data": {
      "text/plain": [
       "(array([ 1., 11., 33., 38., 37., 60., 63., 43., 14.,  3.]),\n",
       " array([29. , 33.8, 38.6, 43.4, 48.2, 53. , 57.8, 62.6, 67.4, 72.2, 77. ]),\n",
       " <a list of 10 Patch objects>)"
      ]
     },
     "execution_count": 7,
     "metadata": {},
     "output_type": "execute_result"
    },
    {
     "data": {
      "image/png": "[encoded data removed]",
      "text/plain": [
       "<Figure size 360x360 with 1 Axes>"
      ]
     },
     "metadata": {
      "needs_background": "light"
     },
     "output_type": "display_data"
    }
   ],
   "source": [
    "plt.figure(figsize = (5,5))\n",
    "plt.title(\"Age\")\n",
    "plt.hist(df[\"Age\"])"
   ]
  },
  {
   "cell_type": "markdown",
   "metadata": {},
   "source": [
    "We can see that we have a variety of cases ranging from 30 to approximately 80 years of age, which gives us a good range and varitey of cases"
   ]
  },
  {
   "cell_type": "code",
   "execution_count": 8,
   "metadata": {},
   "outputs": [
    {
     "data": {
      "text/plain": [
       "(array([ 12.,  73., 106.,  69.,  35.,   3.,   4.,   0.,   0.,   1.]),\n",
       " array([126. , 169.8, 213.6, 257.4, 301.2, 345. , 388.8, 432.6, 476.4,\n",
       "        520.2, 564. ]),\n",
       " <a list of 10 Patch objects>)"
      ]
     },
     "execution_count": 8,
     "metadata": {},
     "output_type": "execute_result"
    },
    {
     "data": {
      "image/png": "[encoded data removed]",
      "text/plain": [
       "<Figure size 432x288 with 1 Axes>"
      ]
     },
     "metadata": {
      "needs_background": "light"
     },
     "output_type": "display_data"
    }
   ],
   "source": [
    "plt.title(\"Cholesterol\")\n",
    "plt.hist(df[\"Cholestrol\"])\n"
   ]
  },
  {
   "cell_type": "markdown",
   "metadata": {},
   "source": [
    "the cholesterol lies between 200 to 400, most people have their cholesterol between 200-300 range"
   ]
  },
  {
   "cell_type": "code",
   "execution_count": 9,
   "metadata": {},
   "outputs": [
    {
     "data": {
      "text/plain": [
       "(array([10., 42., 67., 74., 57., 27., 13.,  8.,  3.,  2.]),\n",
       " array([ 94. , 104.6, 115.2, 125.8, 136.4, 147. , 157.6, 168.2, 178.8,\n",
       "        189.4, 200. ]),\n",
       " <a list of 10 Patch objects>)"
      ]
     },
     "execution_count": 9,
     "metadata": {},
     "output_type": "execute_result"
    },
    {
     "data": {
      "image/png": "[encoded data removed]",
      "text/plain": [
       "<Figure size 432x288 with 1 Axes>"
      ]
     },
     "metadata": {
      "needs_background": "light"
     },
     "output_type": "display_data"
    }
   ],
   "source": [
    "plt.title(\"Blood Pressure\")\n",
    "plt.hist(df[\"Resting_BP\"])\n"
   ]
  },
  {
   "cell_type": "markdown",
   "metadata": {},
   "source": [
    "the blood pressure lies between 100-180, the most common BP is between 120-140"
   ]
  },
  {
   "cell_type": "markdown",
   "metadata": {},
   "source": [
    "# Bivariate Analysis"
   ]
  },
  {
   "cell_type": "code",
   "execution_count": 10,
   "metadata": {},
   "outputs": [
    {
     "data": {
      "text/plain": [
       "<matplotlib.axes._subplots.AxesSubplot at 0x121ce250>"
      ]
     },
     "execution_count": 10,
     "metadata": {},
     "output_type": "execute_result"
    },
    {
     "data": {
      "image/png": "[encoded data removed]",
      "text/plain": [
       "<Figure size 720x360 with 1 Axes>"
      ]
     },
     "metadata": {
      "needs_background": "light"
     },
     "output_type": "display_data"
    }
   ],
   "source": [
    "plt.figure(figsize = (10,5))\n",
    "sns.countplot(x = df[\"Age\"], hue = df[\"Sex\"])"
   ]
  },
  {
   "cell_type": "markdown",
   "metadata": {},
   "source": [
    "we can see that there are more males than females in the data and the majority of people are between the age group of 40-65"
   ]
  },
  {
   "cell_type": "code",
   "execution_count": 21,
   "metadata": {},
   "outputs": [
    {
     "data": {
      "text/plain": [
       "<matplotlib.axes._subplots.AxesSubplot at 0x13bccc70>"
      ]
     },
     "execution_count": 21,
     "metadata": {},
     "output_type": "execute_result"
    },
    {
     "data": {
      "image/png": "[encoded data removed]",
      "text/plain": [
       "<Figure size 2160x360 with 1 Axes>"
      ]
     },
     "metadata": {
      "needs_background": "light"
     },
     "output_type": "display_data"
    }
   ],
   "source": [
    "plt.figure(figsize = (30,5))\n",
    "sns.countplot(x = df[\"Age\"], hue = df[\"Fasting_blood_sugar\"])"
   ]
  },
  {
   "cell_type": "markdown",
   "metadata": {},
   "source": [
    "fasting blood sugar relationship with Age"
   ]
  },
  {
   "cell_type": "code",
   "execution_count": 27,
   "metadata": {},
   "outputs": [
    {
     "data": {
      "text/plain": [
       "<matplotlib.axes._subplots.AxesSubplot at 0x16786990>"
      ]
     },
     "execution_count": 27,
     "metadata": {},
     "output_type": "execute_result"
    },
    {
     "data": {
      "image/png": "[encoded data removed]",
      "text/plain": [
       "<Figure size 720x360 with 1 Axes>"
      ]
     },
     "metadata": {
      "needs_background": "light"
     },
     "output_type": "display_data"
    }
   ],
   "source": [
    "plt.figure(figsize = (10,5))\n",
    "sns.countplot(x = df[\"Age\"], hue = df[\"Target\"] )"
   ]
  },
  {
   "cell_type": "markdown",
   "metadata": {},
   "source": [
    "we can see that maximum heart attacks happen during the age of 40-60"
   ]
  },
  {
   "cell_type": "code",
   "execution_count": 30,
   "metadata": {},
   "outputs": [
    {
     "data": {
      "text/plain": [
       "<matplotlib.axes._subplots.AxesSubplot at 0x170bca70>"
      ]
     },
     "execution_count": 30,
     "metadata": {},
     "output_type": "execute_result"
    },
    {
     "data": {
      "image/png": "[encoded data removed]",
      "text/plain": [
       "<Figure size 1080x360 with 1 Axes>"
      ]
     },
     "metadata": {
      "needs_background": "light"
     },
     "output_type": "display_data"
    }
   ],
   "source": [
    "plt.figure(figsize = (15,5))\n",
    "sns.countplot(x = df[\"Age\"], hue = df[\"Thalassemia\"])"
   ]
  },
  {
   "cell_type": "markdown",
   "metadata": {},
   "source": [
    "we can see that before 50, Type 2 is more common and after 55, both type 2 and type 3 are present, type 1 is more evident in ages 55-65 and there are little traces of type 0"
   ]
  },
  {
   "cell_type": "code",
   "execution_count": 33,
   "metadata": {},
   "outputs": [
    {
     "data": {
      "text/plain": [
       "<matplotlib.axes._subplots.AxesSubplot at 0x174b7fb0>"
      ]
     },
     "execution_count": 33,
     "metadata": {},
     "output_type": "execute_result"
    },
    {
     "data": {
      "image/png": "[encoded data removed]",
      "text/plain": [
       "<Figure size 432x288 with 1 Axes>"
      ]
     },
     "metadata": {
      "needs_background": "light"
     },
     "output_type": "display_data"
    }
   ],
   "source": [
    "sns.countplot(x = df[\"Thalassemia\"], hue = df[\"Target\"])"
   ]
  },
  {
   "cell_type": "markdown",
   "metadata": {},
   "source": [
    "we can see that majority of positive targets are have type 2 thalassemia"
   ]
  },
  {
   "cell_type": "code",
   "execution_count": 36,
   "metadata": {},
   "outputs": [
    {
     "data": {
      "text/plain": [
       "<matplotlib.axes._subplots.AxesSubplot at 0x17347b10>"
      ]
     },
     "execution_count": 36,
     "metadata": {},
     "output_type": "execute_result"
    },
    {
     "data": {
      "image/png": "[encoded data removed]",
      "text/plain": [
       "<Figure size 432x288 with 1 Axes>"
      ]
     },
     "metadata": {
      "needs_background": "light"
     },
     "output_type": "display_data"
    }
   ],
   "source": [
    "sns.countplot(x = df[\"Blocked vessels\"], hue = df[\"Target\"])"
   ]
  },
  {
   "cell_type": "markdown",
   "metadata": {},
   "source": [
    "# Gathering some more data"
   ]
  },
  {
   "cell_type": "code",
   "execution_count": 54,
   "metadata": {},
   "outputs": [
    {
     "data": {
      "text/html": [
       "<style  type=\"text/css\" >\n",
       "    #T_ec7b5da8_6701_11eb_b6bd_a08cfd7fcda7row0_col1 {\n",
       "            background-color:  #6b6b6b;\n",
       "            color:  #000000;\n",
       "        }    #T_ec7b5da8_6701_11eb_b6bd_a08cfd7fcda7row0_col2 {\n",
       "            background-color:  #000000;\n",
       "            color:  #f1f1f1;\n",
       "        }    #T_ec7b5da8_6701_11eb_b6bd_a08cfd7fcda7row1_col1 {\n",
       "            background-color:  #767676;\n",
       "            color:  #000000;\n",
       "        }    #T_ec7b5da8_6701_11eb_b6bd_a08cfd7fcda7row1_col2 {\n",
       "            background-color:  #000000;\n",
       "            color:  #f1f1f1;\n",
       "        }    #T_ec7b5da8_6701_11eb_b6bd_a08cfd7fcda7row2_col1 {\n",
       "            background-color:  #616161;\n",
       "            color:  #f1f1f1;\n",
       "        }    #T_ec7b5da8_6701_11eb_b6bd_a08cfd7fcda7row2_col2 {\n",
       "            background-color:  #000000;\n",
       "            color:  #f1f1f1;\n",
       "        }    #T_ec7b5da8_6701_11eb_b6bd_a08cfd7fcda7row3_col1 {\n",
       "            background-color:  #aeaeae;\n",
       "            color:  #000000;\n",
       "        }    #T_ec7b5da8_6701_11eb_b6bd_a08cfd7fcda7row3_col2 {\n",
       "            background-color:  #242424;\n",
       "            color:  #f1f1f1;\n",
       "        }    #T_ec7b5da8_6701_11eb_b6bd_a08cfd7fcda7row4_col1 {\n",
       "            background-color:  #959595;\n",
       "            color:  #000000;\n",
       "        }    #T_ec7b5da8_6701_11eb_b6bd_a08cfd7fcda7row4_col2 {\n",
       "            background-color:  #515151;\n",
       "            color:  #f1f1f1;\n",
       "        }    #T_ec7b5da8_6701_11eb_b6bd_a08cfd7fcda7row5_col1 {\n",
       "            background-color:  #f1f1f1;\n",
       "            color:  #000000;\n",
       "        }    #T_ec7b5da8_6701_11eb_b6bd_a08cfd7fcda7row5_col2 {\n",
       "            background-color:  #959595;\n",
       "            color:  #000000;\n",
       "        }    #T_ec7b5da8_6701_11eb_b6bd_a08cfd7fcda7row6_col1 {\n",
       "            background-color:  #bababa;\n",
       "            color:  #000000;\n",
       "        }    #T_ec7b5da8_6701_11eb_b6bd_a08cfd7fcda7row6_col2 {\n",
       "            background-color:  #bdbdbd;\n",
       "            color:  #000000;\n",
       "        }    #T_ec7b5da8_6701_11eb_b6bd_a08cfd7fcda7row7_col1 {\n",
       "            background-color:  #818181;\n",
       "            color:  #000000;\n",
       "        }    #T_ec7b5da8_6701_11eb_b6bd_a08cfd7fcda7row7_col2 {\n",
       "            background-color:  #bdbdbd;\n",
       "            color:  #000000;\n",
       "        }    #T_ec7b5da8_6701_11eb_b6bd_a08cfd7fcda7row8_col1 {\n",
       "            background-color:  #565656;\n",
       "            color:  #f1f1f1;\n",
       "        }    #T_ec7b5da8_6701_11eb_b6bd_a08cfd7fcda7row8_col2 {\n",
       "            background-color:  #d9d9d9;\n",
       "            color:  #000000;\n",
       "        }    #T_ec7b5da8_6701_11eb_b6bd_a08cfd7fcda7row9_col1 {\n",
       "            background-color:  #222222;\n",
       "            color:  #f1f1f1;\n",
       "        }    #T_ec7b5da8_6701_11eb_b6bd_a08cfd7fcda7row9_col2 {\n",
       "            background-color:  #d9d9d9;\n",
       "            color:  #000000;\n",
       "        }    #T_ec7b5da8_6701_11eb_b6bd_a08cfd7fcda7row10_col1 {\n",
       "            background-color:  #3d3d3d;\n",
       "            color:  #f1f1f1;\n",
       "        }    #T_ec7b5da8_6701_11eb_b6bd_a08cfd7fcda7row10_col2 {\n",
       "            background-color:  #d9d9d9;\n",
       "            color:  #000000;\n",
       "        }    #T_ec7b5da8_6701_11eb_b6bd_a08cfd7fcda7row11_col1 {\n",
       "            background-color:  #fbfbfb;\n",
       "            color:  #000000;\n",
       "        }    #T_ec7b5da8_6701_11eb_b6bd_a08cfd7fcda7row11_col2 {\n",
       "            background-color:  #f0f0f0;\n",
       "            color:  #000000;\n",
       "        }    #T_ec7b5da8_6701_11eb_b6bd_a08cfd7fcda7row12_col1 {\n",
       "            background-color:  #d5d5d5;\n",
       "            color:  #000000;\n",
       "        }    #T_ec7b5da8_6701_11eb_b6bd_a08cfd7fcda7row12_col2 {\n",
       "            background-color:  #f0f0f0;\n",
       "            color:  #000000;\n",
       "        }    #T_ec7b5da8_6701_11eb_b6bd_a08cfd7fcda7row13_col1 {\n",
       "            background-color:  #4b4b4b;\n",
       "            color:  #f1f1f1;\n",
       "        }    #T_ec7b5da8_6701_11eb_b6bd_a08cfd7fcda7row13_col2 {\n",
       "            background-color:  #f0f0f0;\n",
       "            color:  #000000;\n",
       "        }    #T_ec7b5da8_6701_11eb_b6bd_a08cfd7fcda7row14_col1 {\n",
       "            background-color:  #f6f6f6;\n",
       "            color:  #000000;\n",
       "        }    #T_ec7b5da8_6701_11eb_b6bd_a08cfd7fcda7row14_col2 {\n",
       "            background-color:  #f0f0f0;\n",
       "            color:  #000000;\n",
       "        }    #T_ec7b5da8_6701_11eb_b6bd_a08cfd7fcda7row15_col1 {\n",
       "            background-color:  #000000;\n",
       "            color:  #f1f1f1;\n",
       "        }    #T_ec7b5da8_6701_11eb_b6bd_a08cfd7fcda7row15_col2 {\n",
       "            background-color:  #f0f0f0;\n",
       "            color:  #000000;\n",
       "        }    #T_ec7b5da8_6701_11eb_b6bd_a08cfd7fcda7row16_col1 {\n",
       "            background-color:  #6b6b6b;\n",
       "            color:  #000000;\n",
       "        }    #T_ec7b5da8_6701_11eb_b6bd_a08cfd7fcda7row16_col2 {\n",
       "            background-color:  #f0f0f0;\n",
       "            color:  #000000;\n",
       "        }    #T_ec7b5da8_6701_11eb_b6bd_a08cfd7fcda7row17_col1 {\n",
       "            background-color:  #ffffff;\n",
       "            color:  #000000;\n",
       "        }    #T_ec7b5da8_6701_11eb_b6bd_a08cfd7fcda7row17_col2 {\n",
       "            background-color:  #f0f0f0;\n",
       "            color:  #000000;\n",
       "        }    #T_ec7b5da8_6701_11eb_b6bd_a08cfd7fcda7row18_col1 {\n",
       "            background-color:  #2f2f2f;\n",
       "            color:  #f1f1f1;\n",
       "        }    #T_ec7b5da8_6701_11eb_b6bd_a08cfd7fcda7row18_col2 {\n",
       "            background-color:  #ffffff;\n",
       "            color:  #000000;\n",
       "        }    #T_ec7b5da8_6701_11eb_b6bd_a08cfd7fcda7row19_col1 {\n",
       "            background-color:  #a2a2a2;\n",
       "            color:  #000000;\n",
       "        }    #T_ec7b5da8_6701_11eb_b6bd_a08cfd7fcda7row19_col2 {\n",
       "            background-color:  #ffffff;\n",
       "            color:  #000000;\n",
       "        }</style><table id=\"T_ec7b5da8_6701_11eb_b6bd_a08cfd7fcda7\" ><thead>    <tr>        <th class=\"blank level0\" ></th>        <th class=\"col_heading level0 col0\" >Sex</th>        <th class=\"col_heading level0 col1\" >Age</th>        <th class=\"col_heading level0 col2\" >Target</th>    </tr></thead><tbody>\n",
       "                <tr>\n",
       "                        <th id=\"T_ec7b5da8_6701_11eb_b6bd_a08cfd7fcda7level0_row0\" class=\"row_heading level0 row0\" >59</th>\n",
       "                        <td id=\"T_ec7b5da8_6701_11eb_b6bd_a08cfd7fcda7row0_col0\" class=\"data row0 col0\" >Male</td>\n",
       "                        <td id=\"T_ec7b5da8_6701_11eb_b6bd_a08cfd7fcda7row0_col1\" class=\"data row0 col1\" >58</td>\n",
       "                        <td id=\"T_ec7b5da8_6701_11eb_b6bd_a08cfd7fcda7row0_col2\" class=\"data row0 col2\" >13</td>\n",
       "            </tr>\n",
       "            <tr>\n",
       "                        <th id=\"T_ec7b5da8_6701_11eb_b6bd_a08cfd7fcda7level0_row1\" class=\"row_heading level0 row1\" >58</th>\n",
       "                        <td id=\"T_ec7b5da8_6701_11eb_b6bd_a08cfd7fcda7row1_col0\" class=\"data row1 col0\" >Male</td>\n",
       "                        <td id=\"T_ec7b5da8_6701_11eb_b6bd_a08cfd7fcda7row1_col1\" class=\"data row1 col1\" >57</td>\n",
       "                        <td id=\"T_ec7b5da8_6701_11eb_b6bd_a08cfd7fcda7row1_col2\" class=\"data row1 col2\" >13</td>\n",
       "            </tr>\n",
       "            <tr>\n",
       "                        <th id=\"T_ec7b5da8_6701_11eb_b6bd_a08cfd7fcda7level0_row2\" class=\"row_heading level0 row2\" >60</th>\n",
       "                        <td id=\"T_ec7b5da8_6701_11eb_b6bd_a08cfd7fcda7row2_col0\" class=\"data row2 col0\" >Male</td>\n",
       "                        <td id=\"T_ec7b5da8_6701_11eb_b6bd_a08cfd7fcda7row2_col1\" class=\"data row2 col1\" >59</td>\n",
       "                        <td id=\"T_ec7b5da8_6701_11eb_b6bd_a08cfd7fcda7row2_col2\" class=\"data row2 col2\" >13</td>\n",
       "            </tr>\n",
       "            <tr>\n",
       "                        <th id=\"T_ec7b5da8_6701_11eb_b6bd_a08cfd7fcda7level0_row3\" class=\"row_heading level0 row3\" >53</th>\n",
       "                        <td id=\"T_ec7b5da8_6701_11eb_b6bd_a08cfd7fcda7row3_col0\" class=\"data row3 col0\" >Male</td>\n",
       "                        <td id=\"T_ec7b5da8_6701_11eb_b6bd_a08cfd7fcda7row3_col1\" class=\"data row3 col1\" >52</td>\n",
       "                        <td id=\"T_ec7b5da8_6701_11eb_b6bd_a08cfd7fcda7row3_col2\" class=\"data row3 col2\" >12</td>\n",
       "            </tr>\n",
       "            <tr>\n",
       "                        <th id=\"T_ec7b5da8_6701_11eb_b6bd_a08cfd7fcda7level0_row4\" class=\"row_heading level0 row4\" >55</th>\n",
       "                        <td id=\"T_ec7b5da8_6701_11eb_b6bd_a08cfd7fcda7row4_col0\" class=\"data row4 col0\" >Male</td>\n",
       "                        <td id=\"T_ec7b5da8_6701_11eb_b6bd_a08cfd7fcda7row4_col1\" class=\"data row4 col1\" >54</td>\n",
       "                        <td id=\"T_ec7b5da8_6701_11eb_b6bd_a08cfd7fcda7row4_col2\" class=\"data row4 col2\" >11</td>\n",
       "            </tr>\n",
       "            <tr>\n",
       "                        <th id=\"T_ec7b5da8_6701_11eb_b6bd_a08cfd7fcda7level0_row5\" class=\"row_heading level0 row5\" >45</th>\n",
       "                        <td id=\"T_ec7b5da8_6701_11eb_b6bd_a08cfd7fcda7row5_col0\" class=\"data row5 col0\" >Male</td>\n",
       "                        <td id=\"T_ec7b5da8_6701_11eb_b6bd_a08cfd7fcda7row5_col1\" class=\"data row5 col1\" >44</td>\n",
       "                        <td id=\"T_ec7b5da8_6701_11eb_b6bd_a08cfd7fcda7row5_col2\" class=\"data row5 col2\" >9</td>\n",
       "            </tr>\n",
       "            <tr>\n",
       "                        <th id=\"T_ec7b5da8_6701_11eb_b6bd_a08cfd7fcda7level0_row6\" class=\"row_heading level0 row6\" >52</th>\n",
       "                        <td id=\"T_ec7b5da8_6701_11eb_b6bd_a08cfd7fcda7row6_col0\" class=\"data row6 col0\" >Male</td>\n",
       "                        <td id=\"T_ec7b5da8_6701_11eb_b6bd_a08cfd7fcda7row6_col1\" class=\"data row6 col1\" >51</td>\n",
       "                        <td id=\"T_ec7b5da8_6701_11eb_b6bd_a08cfd7fcda7row6_col2\" class=\"data row6 col2\" >8</td>\n",
       "            </tr>\n",
       "            <tr>\n",
       "                        <th id=\"T_ec7b5da8_6701_11eb_b6bd_a08cfd7fcda7level0_row7\" class=\"row_heading level0 row7\" >57</th>\n",
       "                        <td id=\"T_ec7b5da8_6701_11eb_b6bd_a08cfd7fcda7row7_col0\" class=\"data row7 col0\" >Male</td>\n",
       "                        <td id=\"T_ec7b5da8_6701_11eb_b6bd_a08cfd7fcda7row7_col1\" class=\"data row7 col1\" >56</td>\n",
       "                        <td id=\"T_ec7b5da8_6701_11eb_b6bd_a08cfd7fcda7row7_col2\" class=\"data row7 col2\" >8</td>\n",
       "            </tr>\n",
       "            <tr>\n",
       "                        <th id=\"T_ec7b5da8_6701_11eb_b6bd_a08cfd7fcda7level0_row8\" class=\"row_heading level0 row8\" >61</th>\n",
       "                        <td id=\"T_ec7b5da8_6701_11eb_b6bd_a08cfd7fcda7row8_col0\" class=\"data row8 col0\" >Male</td>\n",
       "                        <td id=\"T_ec7b5da8_6701_11eb_b6bd_a08cfd7fcda7row8_col1\" class=\"data row8 col1\" >60</td>\n",
       "                        <td id=\"T_ec7b5da8_6701_11eb_b6bd_a08cfd7fcda7row8_col2\" class=\"data row8 col2\" >7</td>\n",
       "            </tr>\n",
       "            <tr>\n",
       "                        <th id=\"T_ec7b5da8_6701_11eb_b6bd_a08cfd7fcda7level0_row9\" class=\"row_heading level0 row9\" >65</th>\n",
       "                        <td id=\"T_ec7b5da8_6701_11eb_b6bd_a08cfd7fcda7row9_col0\" class=\"data row9 col0\" >Male</td>\n",
       "                        <td id=\"T_ec7b5da8_6701_11eb_b6bd_a08cfd7fcda7row9_col1\" class=\"data row9 col1\" >64</td>\n",
       "                        <td id=\"T_ec7b5da8_6701_11eb_b6bd_a08cfd7fcda7row9_col2\" class=\"data row9 col2\" >7</td>\n",
       "            </tr>\n",
       "            <tr>\n",
       "                        <th id=\"T_ec7b5da8_6701_11eb_b6bd_a08cfd7fcda7level0_row10\" class=\"row_heading level0 row10\" >24</th>\n",
       "                        <td id=\"T_ec7b5da8_6701_11eb_b6bd_a08cfd7fcda7row10_col0\" class=\"data row10 col0\" >Female</td>\n",
       "                        <td id=\"T_ec7b5da8_6701_11eb_b6bd_a08cfd7fcda7row10_col1\" class=\"data row10 col1\" >62</td>\n",
       "                        <td id=\"T_ec7b5da8_6701_11eb_b6bd_a08cfd7fcda7row10_col2\" class=\"data row10 col2\" >7</td>\n",
       "            </tr>\n",
       "            <tr>\n",
       "                        <th id=\"T_ec7b5da8_6701_11eb_b6bd_a08cfd7fcda7level0_row11\" class=\"row_heading level0 row11\" >43</th>\n",
       "                        <td id=\"T_ec7b5da8_6701_11eb_b6bd_a08cfd7fcda7row11_col0\" class=\"data row11 col0\" >Male</td>\n",
       "                        <td id=\"T_ec7b5da8_6701_11eb_b6bd_a08cfd7fcda7row11_col1\" class=\"data row11 col1\" >42</td>\n",
       "                        <td id=\"T_ec7b5da8_6701_11eb_b6bd_a08cfd7fcda7row11_col2\" class=\"data row11 col2\" >6</td>\n",
       "            </tr>\n",
       "            <tr>\n",
       "                        <th id=\"T_ec7b5da8_6701_11eb_b6bd_a08cfd7fcda7level0_row12\" class=\"row_heading level0 row12\" >49</th>\n",
       "                        <td id=\"T_ec7b5da8_6701_11eb_b6bd_a08cfd7fcda7row12_col0\" class=\"data row12 col0\" >Male</td>\n",
       "                        <td id=\"T_ec7b5da8_6701_11eb_b6bd_a08cfd7fcda7row12_col1\" class=\"data row12 col1\" >48</td>\n",
       "                        <td id=\"T_ec7b5da8_6701_11eb_b6bd_a08cfd7fcda7row12_col2\" class=\"data row12 col2\" >6</td>\n",
       "            </tr>\n",
       "            <tr>\n",
       "                        <th id=\"T_ec7b5da8_6701_11eb_b6bd_a08cfd7fcda7level0_row13\" class=\"row_heading level0 row13\" >62</th>\n",
       "                        <td id=\"T_ec7b5da8_6701_11eb_b6bd_a08cfd7fcda7row13_col0\" class=\"data row13 col0\" >Male</td>\n",
       "                        <td id=\"T_ec7b5da8_6701_11eb_b6bd_a08cfd7fcda7row13_col1\" class=\"data row13 col1\" >61</td>\n",
       "                        <td id=\"T_ec7b5da8_6701_11eb_b6bd_a08cfd7fcda7row13_col2\" class=\"data row13 col2\" >6</td>\n",
       "            </tr>\n",
       "            <tr>\n",
       "                        <th id=\"T_ec7b5da8_6701_11eb_b6bd_a08cfd7fcda7level0_row14\" class=\"row_heading level0 row14\" >44</th>\n",
       "                        <td id=\"T_ec7b5da8_6701_11eb_b6bd_a08cfd7fcda7row14_col0\" class=\"data row14 col0\" >Male</td>\n",
       "                        <td id=\"T_ec7b5da8_6701_11eb_b6bd_a08cfd7fcda7row14_col1\" class=\"data row14 col1\" >43</td>\n",
       "                        <td id=\"T_ec7b5da8_6701_11eb_b6bd_a08cfd7fcda7row14_col2\" class=\"data row14 col2\" >6</td>\n",
       "            </tr>\n",
       "            <tr>\n",
       "                        <th id=\"T_ec7b5da8_6701_11eb_b6bd_a08cfd7fcda7level0_row15\" class=\"row_heading level0 row15\" >68</th>\n",
       "                        <td id=\"T_ec7b5da8_6701_11eb_b6bd_a08cfd7fcda7row15_col0\" class=\"data row15 col0\" >Male</td>\n",
       "                        <td id=\"T_ec7b5da8_6701_11eb_b6bd_a08cfd7fcda7row15_col1\" class=\"data row15 col1\" >67</td>\n",
       "                        <td id=\"T_ec7b5da8_6701_11eb_b6bd_a08cfd7fcda7row15_col2\" class=\"data row15 col2\" >6</td>\n",
       "            </tr>\n",
       "            <tr>\n",
       "                        <th id=\"T_ec7b5da8_6701_11eb_b6bd_a08cfd7fcda7level0_row16\" class=\"row_heading level0 row16\" >20</th>\n",
       "                        <td id=\"T_ec7b5da8_6701_11eb_b6bd_a08cfd7fcda7row16_col0\" class=\"data row16 col0\" >Female</td>\n",
       "                        <td id=\"T_ec7b5da8_6701_11eb_b6bd_a08cfd7fcda7row16_col1\" class=\"data row16 col1\" >58</td>\n",
       "                        <td id=\"T_ec7b5da8_6701_11eb_b6bd_a08cfd7fcda7row16_col2\" class=\"data row16 col2\" >6</td>\n",
       "            </tr>\n",
       "            <tr>\n",
       "                        <th id=\"T_ec7b5da8_6701_11eb_b6bd_a08cfd7fcda7level0_row17\" class=\"row_heading level0 row17\" >42</th>\n",
       "                        <td id=\"T_ec7b5da8_6701_11eb_b6bd_a08cfd7fcda7row17_col0\" class=\"data row17 col0\" >Male</td>\n",
       "                        <td id=\"T_ec7b5da8_6701_11eb_b6bd_a08cfd7fcda7row17_col1\" class=\"data row17 col1\" >41</td>\n",
       "                        <td id=\"T_ec7b5da8_6701_11eb_b6bd_a08cfd7fcda7row17_col2\" class=\"data row17 col2\" >6</td>\n",
       "            </tr>\n",
       "            <tr>\n",
       "                        <th id=\"T_ec7b5da8_6701_11eb_b6bd_a08cfd7fcda7level0_row18\" class=\"row_heading level0 row18\" >25</th>\n",
       "                        <td id=\"T_ec7b5da8_6701_11eb_b6bd_a08cfd7fcda7row18_col0\" class=\"data row18 col0\" >Female</td>\n",
       "                        <td id=\"T_ec7b5da8_6701_11eb_b6bd_a08cfd7fcda7row18_col1\" class=\"data row18 col1\" >63</td>\n",
       "                        <td id=\"T_ec7b5da8_6701_11eb_b6bd_a08cfd7fcda7row18_col2\" class=\"data row18 col2\" >5</td>\n",
       "            </tr>\n",
       "            <tr>\n",
       "                        <th id=\"T_ec7b5da8_6701_11eb_b6bd_a08cfd7fcda7level0_row19\" class=\"row_heading level0 row19\" >54</th>\n",
       "                        <td id=\"T_ec7b5da8_6701_11eb_b6bd_a08cfd7fcda7row19_col0\" class=\"data row19 col0\" >Male</td>\n",
       "                        <td id=\"T_ec7b5da8_6701_11eb_b6bd_a08cfd7fcda7row19_col1\" class=\"data row19 col1\" >53</td>\n",
       "                        <td id=\"T_ec7b5da8_6701_11eb_b6bd_a08cfd7fcda7row19_col2\" class=\"data row19 col2\" >5</td>\n",
       "            </tr>\n",
       "    </tbody></table>"
      ],
      "text/plain": [
       "<pandas.io.formats.style.Styler at 0x1766a2f0>"
      ]
     },
     "execution_count": 54,
     "metadata": {},
     "output_type": "execute_result"
    }
   ],
   "source": [
    "a = df.groupby([\"Sex\", \"Age\"])[\"Target\"].count().reset_index().sort_values(by = \"Target\", ascending = False)\n",
    "a[\"Sex\"].replace({1:\"Male\", 0:\"Female\"}, inplace = True)\n",
    "a.head(20).style.background_gradient(cmap = \"Greys\")"
   ]
  },
  {
   "cell_type": "markdown",
   "metadata": {},
   "source": [
    "we can see from the above data that older males are more susceptible to heart attacks than females "
   ]
  },
  {
   "cell_type": "code",
   "execution_count": 87,
   "metadata": {},
   "outputs": [
    {
     "data": {
      "text/html": [
       "<style  type=\"text/css\" >\n",
       "    #T_c34feae4_6708_11eb_a10a_a08cfd7fcda7row0_col0 {\n",
       "            background-color:  #767676;\n",
       "            color:  #000000;\n",
       "        }    #T_c34feae4_6708_11eb_a10a_a08cfd7fcda7row0_col1 {\n",
       "            background-color:  #ffffff;\n",
       "            color:  #000000;\n",
       "        }    #T_c34feae4_6708_11eb_a10a_a08cfd7fcda7row0_col2 {\n",
       "            background-color:  #000000;\n",
       "            color:  #f1f1f1;\n",
       "        }    #T_c34feae4_6708_11eb_a10a_a08cfd7fcda7row1_col0 {\n",
       "            background-color:  #6b6b6b;\n",
       "            color:  #000000;\n",
       "        }    #T_c34feae4_6708_11eb_a10a_a08cfd7fcda7row1_col1 {\n",
       "            background-color:  #ffffff;\n",
       "            color:  #000000;\n",
       "        }    #T_c34feae4_6708_11eb_a10a_a08cfd7fcda7row1_col2 {\n",
       "            background-color:  #333333;\n",
       "            color:  #f1f1f1;\n",
       "        }    #T_c34feae4_6708_11eb_a10a_a08cfd7fcda7row2_col0 {\n",
       "            background-color:  #565656;\n",
       "            color:  #f1f1f1;\n",
       "        }    #T_c34feae4_6708_11eb_a10a_a08cfd7fcda7row2_col1 {\n",
       "            background-color:  #ffffff;\n",
       "            color:  #000000;\n",
       "        }    #T_c34feae4_6708_11eb_a10a_a08cfd7fcda7row2_col2 {\n",
       "            background-color:  #c6c6c6;\n",
       "            color:  #000000;\n",
       "        }    #T_c34feae4_6708_11eb_a10a_a08cfd7fcda7row3_col0 {\n",
       "            background-color:  #3d3d3d;\n",
       "            color:  #f1f1f1;\n",
       "        }    #T_c34feae4_6708_11eb_a10a_a08cfd7fcda7row3_col1 {\n",
       "            background-color:  #ffffff;\n",
       "            color:  #000000;\n",
       "        }    #T_c34feae4_6708_11eb_a10a_a08cfd7fcda7row3_col2 {\n",
       "            background-color:  #c6c6c6;\n",
       "            color:  #000000;\n",
       "        }    #T_c34feae4_6708_11eb_a10a_a08cfd7fcda7row4_col0 {\n",
       "            background-color:  #bababa;\n",
       "            color:  #000000;\n",
       "        }    #T_c34feae4_6708_11eb_a10a_a08cfd7fcda7row4_col1 {\n",
       "            background-color:  #000000;\n",
       "            color:  #f1f1f1;\n",
       "        }    #T_c34feae4_6708_11eb_a10a_a08cfd7fcda7row4_col2 {\n",
       "            background-color:  #c6c6c6;\n",
       "            color:  #000000;\n",
       "        }    #T_c34feae4_6708_11eb_a10a_a08cfd7fcda7row5_col0 {\n",
       "            background-color:  #959595;\n",
       "            color:  #000000;\n",
       "        }    #T_c34feae4_6708_11eb_a10a_a08cfd7fcda7row5_col1 {\n",
       "            background-color:  #000000;\n",
       "            color:  #f1f1f1;\n",
       "        }    #T_c34feae4_6708_11eb_a10a_a08cfd7fcda7row5_col2 {\n",
       "            background-color:  #c6c6c6;\n",
       "            color:  #000000;\n",
       "        }    #T_c34feae4_6708_11eb_a10a_a08cfd7fcda7row6_col0 {\n",
       "            background-color:  #616161;\n",
       "            color:  #f1f1f1;\n",
       "        }    #T_c34feae4_6708_11eb_a10a_a08cfd7fcda7row6_col1 {\n",
       "            background-color:  #ffffff;\n",
       "            color:  #000000;\n",
       "        }    #T_c34feae4_6708_11eb_a10a_a08cfd7fcda7row6_col2 {\n",
       "            background-color:  #c6c6c6;\n",
       "            color:  #000000;\n",
       "        }    #T_c34feae4_6708_11eb_a10a_a08cfd7fcda7row7_col0 {\n",
       "            background-color:  #f6f6f6;\n",
       "            color:  #000000;\n",
       "        }    #T_c34feae4_6708_11eb_a10a_a08cfd7fcda7row7_col1 {\n",
       "            background-color:  #ffffff;\n",
       "            color:  #000000;\n",
       "        }    #T_c34feae4_6708_11eb_a10a_a08cfd7fcda7row7_col2 {\n",
       "            background-color:  #e9e9e9;\n",
       "            color:  #000000;\n",
       "        }    #T_c34feae4_6708_11eb_a10a_a08cfd7fcda7row8_col0 {\n",
       "            background-color:  #ffffff;\n",
       "            color:  #000000;\n",
       "        }    #T_c34feae4_6708_11eb_a10a_a08cfd7fcda7row8_col1 {\n",
       "            background-color:  #959595;\n",
       "            color:  #000000;\n",
       "        }    #T_c34feae4_6708_11eb_a10a_a08cfd7fcda7row8_col2 {\n",
       "            background-color:  #e9e9e9;\n",
       "            color:  #000000;\n",
       "        }    #T_c34feae4_6708_11eb_a10a_a08cfd7fcda7row9_col0 {\n",
       "            background-color:  #959595;\n",
       "            color:  #000000;\n",
       "        }    #T_c34feae4_6708_11eb_a10a_a08cfd7fcda7row9_col1 {\n",
       "            background-color:  #ffffff;\n",
       "            color:  #000000;\n",
       "        }    #T_c34feae4_6708_11eb_a10a_a08cfd7fcda7row9_col2 {\n",
       "            background-color:  #e9e9e9;\n",
       "            color:  #000000;\n",
       "        }    #T_c34feae4_6708_11eb_a10a_a08cfd7fcda7row10_col0 {\n",
       "            background-color:  #4b4b4b;\n",
       "            color:  #f1f1f1;\n",
       "        }    #T_c34feae4_6708_11eb_a10a_a08cfd7fcda7row10_col1 {\n",
       "            background-color:  #ffffff;\n",
       "            color:  #000000;\n",
       "        }    #T_c34feae4_6708_11eb_a10a_a08cfd7fcda7row10_col2 {\n",
       "            background-color:  #e9e9e9;\n",
       "            color:  #000000;\n",
       "        }    #T_c34feae4_6708_11eb_a10a_a08cfd7fcda7row11_col0 {\n",
       "            background-color:  #2f2f2f;\n",
       "            color:  #f1f1f1;\n",
       "        }    #T_c34feae4_6708_11eb_a10a_a08cfd7fcda7row11_col1 {\n",
       "            background-color:  #ffffff;\n",
       "            color:  #000000;\n",
       "        }    #T_c34feae4_6708_11eb_a10a_a08cfd7fcda7row11_col2 {\n",
       "            background-color:  #e9e9e9;\n",
       "            color:  #000000;\n",
       "        }    #T_c34feae4_6708_11eb_a10a_a08cfd7fcda7row12_col0 {\n",
       "            background-color:  #000000;\n",
       "            color:  #f1f1f1;\n",
       "        }    #T_c34feae4_6708_11eb_a10a_a08cfd7fcda7row12_col1 {\n",
       "            background-color:  #ffffff;\n",
       "            color:  #000000;\n",
       "        }    #T_c34feae4_6708_11eb_a10a_a08cfd7fcda7row12_col2 {\n",
       "            background-color:  #e9e9e9;\n",
       "            color:  #000000;\n",
       "        }    #T_c34feae4_6708_11eb_a10a_a08cfd7fcda7row13_col0 {\n",
       "            background-color:  #818181;\n",
       "            color:  #000000;\n",
       "        }    #T_c34feae4_6708_11eb_a10a_a08cfd7fcda7row13_col1 {\n",
       "            background-color:  #ffffff;\n",
       "            color:  #000000;\n",
       "        }    #T_c34feae4_6708_11eb_a10a_a08cfd7fcda7row13_col2 {\n",
       "            background-color:  #ffffff;\n",
       "            color:  #000000;\n",
       "        }    #T_c34feae4_6708_11eb_a10a_a08cfd7fcda7row14_col0 {\n",
       "            background-color:  #a2a2a2;\n",
       "            color:  #000000;\n",
       "        }    #T_c34feae4_6708_11eb_a10a_a08cfd7fcda7row14_col1 {\n",
       "            background-color:  #ffffff;\n",
       "            color:  #000000;\n",
       "        }    #T_c34feae4_6708_11eb_a10a_a08cfd7fcda7row14_col2 {\n",
       "            background-color:  #ffffff;\n",
       "            color:  #000000;\n",
       "        }    #T_c34feae4_6708_11eb_a10a_a08cfd7fcda7row15_col0 {\n",
       "            background-color:  #6b6b6b;\n",
       "            color:  #000000;\n",
       "        }    #T_c34feae4_6708_11eb_a10a_a08cfd7fcda7row15_col1 {\n",
       "            background-color:  #000000;\n",
       "            color:  #f1f1f1;\n",
       "        }    #T_c34feae4_6708_11eb_a10a_a08cfd7fcda7row15_col2 {\n",
       "            background-color:  #ffffff;\n",
       "            color:  #000000;\n",
       "        }    #T_c34feae4_6708_11eb_a10a_a08cfd7fcda7row16_col0 {\n",
       "            background-color:  #aeaeae;\n",
       "            color:  #000000;\n",
       "        }    #T_c34feae4_6708_11eb_a10a_a08cfd7fcda7row16_col1 {\n",
       "            background-color:  #ffffff;\n",
       "            color:  #000000;\n",
       "        }    #T_c34feae4_6708_11eb_a10a_a08cfd7fcda7row16_col2 {\n",
       "            background-color:  #ffffff;\n",
       "            color:  #000000;\n",
       "        }    #T_c34feae4_6708_11eb_a10a_a08cfd7fcda7row17_col0 {\n",
       "            background-color:  #8c8c8c;\n",
       "            color:  #000000;\n",
       "        }    #T_c34feae4_6708_11eb_a10a_a08cfd7fcda7row17_col1 {\n",
       "            background-color:  #ffffff;\n",
       "            color:  #000000;\n",
       "        }    #T_c34feae4_6708_11eb_a10a_a08cfd7fcda7row17_col2 {\n",
       "            background-color:  #ffffff;\n",
       "            color:  #000000;\n",
       "        }    #T_c34feae4_6708_11eb_a10a_a08cfd7fcda7row18_col0 {\n",
       "            background-color:  #222222;\n",
       "            color:  #f1f1f1;\n",
       "        }    #T_c34feae4_6708_11eb_a10a_a08cfd7fcda7row18_col1 {\n",
       "            background-color:  #ffffff;\n",
       "            color:  #000000;\n",
       "        }    #T_c34feae4_6708_11eb_a10a_a08cfd7fcda7row18_col2 {\n",
       "            background-color:  #ffffff;\n",
       "            color:  #000000;\n",
       "        }    #T_c34feae4_6708_11eb_a10a_a08cfd7fcda7row19_col0 {\n",
       "            background-color:  #f1f1f1;\n",
       "            color:  #000000;\n",
       "        }    #T_c34feae4_6708_11eb_a10a_a08cfd7fcda7row19_col1 {\n",
       "            background-color:  #000000;\n",
       "            color:  #f1f1f1;\n",
       "        }    #T_c34feae4_6708_11eb_a10a_a08cfd7fcda7row19_col2 {\n",
       "            background-color:  #ffffff;\n",
       "            color:  #000000;\n",
       "        }</style><table id=\"T_c34feae4_6708_11eb_a10a_a08cfd7fcda7\" ><thead>    <tr>        <th class=\"blank level0\" ></th>        <th class=\"col_heading level0 col0\" >Age</th>        <th class=\"col_heading level0 col1\" >Chest_pain</th>        <th class=\"col_heading level0 col2\" >Target</th>    </tr></thead><tbody>\n",
       "                <tr>\n",
       "                        <th id=\"T_c34feae4_6708_11eb_a10a_a08cfd7fcda7level0_row0\" class=\"row_heading level0 row0\" >59</th>\n",
       "                        <td id=\"T_c34feae4_6708_11eb_a10a_a08cfd7fcda7row0_col0\" class=\"data row0 col0\" >57</td>\n",
       "                        <td id=\"T_c34feae4_6708_11eb_a10a_a08cfd7fcda7row0_col1\" class=\"data row0 col1\" >0</td>\n",
       "                        <td id=\"T_c34feae4_6708_11eb_a10a_a08cfd7fcda7row0_col2\" class=\"data row0 col2\" >11</td>\n",
       "            </tr>\n",
       "            <tr>\n",
       "                        <th id=\"T_c34feae4_6708_11eb_a10a_a08cfd7fcda7level0_row1\" class=\"row_heading level0 row1\" >62</th>\n",
       "                        <td id=\"T_c34feae4_6708_11eb_a10a_a08cfd7fcda7row1_col0\" class=\"data row1 col0\" >58</td>\n",
       "                        <td id=\"T_c34feae4_6708_11eb_a10a_a08cfd7fcda7row1_col1\" class=\"data row1 col1\" >0</td>\n",
       "                        <td id=\"T_c34feae4_6708_11eb_a10a_a08cfd7fcda7row1_col2\" class=\"data row1 col2\" >10</td>\n",
       "            </tr>\n",
       "            <tr>\n",
       "                        <th id=\"T_c34feae4_6708_11eb_a10a_a08cfd7fcda7level0_row2\" class=\"row_heading level0 row2\" >70</th>\n",
       "                        <td id=\"T_c34feae4_6708_11eb_a10a_a08cfd7fcda7row2_col0\" class=\"data row2 col0\" >60</td>\n",
       "                        <td id=\"T_c34feae4_6708_11eb_a10a_a08cfd7fcda7row2_col1\" class=\"data row2 col1\" >0</td>\n",
       "                        <td id=\"T_c34feae4_6708_11eb_a10a_a08cfd7fcda7row2_col2\" class=\"data row2 col2\" >7</td>\n",
       "            </tr>\n",
       "            <tr>\n",
       "                        <th id=\"T_c34feae4_6708_11eb_a10a_a08cfd7fcda7level0_row3\" class=\"row_heading level0 row3\" >76</th>\n",
       "                        <td id=\"T_c34feae4_6708_11eb_a10a_a08cfd7fcda7row3_col0\" class=\"data row3 col0\" >62</td>\n",
       "                        <td id=\"T_c34feae4_6708_11eb_a10a_a08cfd7fcda7row3_col1\" class=\"data row3 col1\" >0</td>\n",
       "                        <td id=\"T_c34feae4_6708_11eb_a10a_a08cfd7fcda7row3_col2\" class=\"data row3 col2\" >7</td>\n",
       "            </tr>\n",
       "            <tr>\n",
       "                        <th id=\"T_c34feae4_6708_11eb_a10a_a08cfd7fcda7level0_row4\" class=\"row_heading level0 row4\" >42</th>\n",
       "                        <td id=\"T_c34feae4_6708_11eb_a10a_a08cfd7fcda7row4_col0\" class=\"data row4 col0\" >51</td>\n",
       "                        <td id=\"T_c34feae4_6708_11eb_a10a_a08cfd7fcda7row4_col1\" class=\"data row4 col1\" >2</td>\n",
       "                        <td id=\"T_c34feae4_6708_11eb_a10a_a08cfd7fcda7row4_col2\" class=\"data row4 col2\" >7</td>\n",
       "            </tr>\n",
       "            <tr>\n",
       "                        <th id=\"T_c34feae4_6708_11eb_a10a_a08cfd7fcda7level0_row5\" class=\"row_heading level0 row5\" >52</th>\n",
       "                        <td id=\"T_c34feae4_6708_11eb_a10a_a08cfd7fcda7row5_col0\" class=\"data row5 col0\" >54</td>\n",
       "                        <td id=\"T_c34feae4_6708_11eb_a10a_a08cfd7fcda7row5_col1\" class=\"data row5 col1\" >2</td>\n",
       "                        <td id=\"T_c34feae4_6708_11eb_a10a_a08cfd7fcda7row5_col2\" class=\"data row5 col2\" >7</td>\n",
       "            </tr>\n",
       "            <tr>\n",
       "                        <th id=\"T_c34feae4_6708_11eb_a10a_a08cfd7fcda7level0_row6\" class=\"row_heading level0 row6\" >66</th>\n",
       "                        <td id=\"T_c34feae4_6708_11eb_a10a_a08cfd7fcda7row6_col0\" class=\"data row6 col0\" >59</td>\n",
       "                        <td id=\"T_c34feae4_6708_11eb_a10a_a08cfd7fcda7row6_col1\" class=\"data row6 col1\" >0</td>\n",
       "                        <td id=\"T_c34feae4_6708_11eb_a10a_a08cfd7fcda7row6_col2\" class=\"data row6 col2\" >7</td>\n",
       "            </tr>\n",
       "            <tr>\n",
       "                        <th id=\"T_c34feae4_6708_11eb_a10a_a08cfd7fcda7level0_row7\" class=\"row_heading level0 row7\" >19</th>\n",
       "                        <td id=\"T_c34feae4_6708_11eb_a10a_a08cfd7fcda7row7_col0\" class=\"data row7 col0\" >43</td>\n",
       "                        <td id=\"T_c34feae4_6708_11eb_a10a_a08cfd7fcda7row7_col1\" class=\"data row7 col1\" >0</td>\n",
       "                        <td id=\"T_c34feae4_6708_11eb_a10a_a08cfd7fcda7row7_col2\" class=\"data row7 col2\" >6</td>\n",
       "            </tr>\n",
       "            <tr>\n",
       "                        <th id=\"T_c34feae4_6708_11eb_a10a_a08cfd7fcda7level0_row8\" class=\"row_heading level0 row8\" >13</th>\n",
       "                        <td id=\"T_c34feae4_6708_11eb_a10a_a08cfd7fcda7row8_col0\" class=\"data row8 col0\" >41</td>\n",
       "                        <td id=\"T_c34feae4_6708_11eb_a10a_a08cfd7fcda7row8_col1\" class=\"data row8 col1\" >1</td>\n",
       "                        <td id=\"T_c34feae4_6708_11eb_a10a_a08cfd7fcda7row8_col2\" class=\"data row8 col2\" >6</td>\n",
       "            </tr>\n",
       "            <tr>\n",
       "                        <th id=\"T_c34feae4_6708_11eb_a10a_a08cfd7fcda7level0_row9\" class=\"row_heading level0 row9\" >50</th>\n",
       "                        <td id=\"T_c34feae4_6708_11eb_a10a_a08cfd7fcda7row9_col0\" class=\"data row9 col0\" >54</td>\n",
       "                        <td id=\"T_c34feae4_6708_11eb_a10a_a08cfd7fcda7row9_col1\" class=\"data row9 col1\" >0</td>\n",
       "                        <td id=\"T_c34feae4_6708_11eb_a10a_a08cfd7fcda7row9_col2\" class=\"data row9 col2\" >6</td>\n",
       "            </tr>\n",
       "            <tr>\n",
       "                        <th id=\"T_c34feae4_6708_11eb_a10a_a08cfd7fcda7level0_row10\" class=\"row_heading level0 row10\" >73</th>\n",
       "                        <td id=\"T_c34feae4_6708_11eb_a10a_a08cfd7fcda7row10_col0\" class=\"data row10 col0\" >61</td>\n",
       "                        <td id=\"T_c34feae4_6708_11eb_a10a_a08cfd7fcda7row10_col1\" class=\"data row10 col1\" >0</td>\n",
       "                        <td id=\"T_c34feae4_6708_11eb_a10a_a08cfd7fcda7row10_col2\" class=\"data row10 col2\" >6</td>\n",
       "            </tr>\n",
       "            <tr>\n",
       "                        <th id=\"T_c34feae4_6708_11eb_a10a_a08cfd7fcda7level0_row11\" class=\"row_heading level0 row11\" >79</th>\n",
       "                        <td id=\"T_c34feae4_6708_11eb_a10a_a08cfd7fcda7row11_col0\" class=\"data row11 col0\" >63</td>\n",
       "                        <td id=\"T_c34feae4_6708_11eb_a10a_a08cfd7fcda7row11_col1\" class=\"data row11 col1\" >0</td>\n",
       "                        <td id=\"T_c34feae4_6708_11eb_a10a_a08cfd7fcda7row11_col2\" class=\"data row11 col2\" >6</td>\n",
       "            </tr>\n",
       "            <tr>\n",
       "                        <th id=\"T_c34feae4_6708_11eb_a10a_a08cfd7fcda7level0_row12\" class=\"row_heading level0 row12\" >93</th>\n",
       "                        <td id=\"T_c34feae4_6708_11eb_a10a_a08cfd7fcda7row12_col0\" class=\"data row12 col0\" >67</td>\n",
       "                        <td id=\"T_c34feae4_6708_11eb_a10a_a08cfd7fcda7row12_col1\" class=\"data row12 col1\" >0</td>\n",
       "                        <td id=\"T_c34feae4_6708_11eb_a10a_a08cfd7fcda7row12_col2\" class=\"data row12 col2\" >6</td>\n",
       "            </tr>\n",
       "            <tr>\n",
       "                        <th id=\"T_c34feae4_6708_11eb_a10a_a08cfd7fcda7level0_row13\" class=\"row_heading level0 row13\" >55</th>\n",
       "                        <td id=\"T_c34feae4_6708_11eb_a10a_a08cfd7fcda7row13_col0\" class=\"data row13 col0\" >56</td>\n",
       "                        <td id=\"T_c34feae4_6708_11eb_a10a_a08cfd7fcda7row13_col1\" class=\"data row13 col1\" >0</td>\n",
       "                        <td id=\"T_c34feae4_6708_11eb_a10a_a08cfd7fcda7row13_col2\" class=\"data row13 col2\" >5</td>\n",
       "            </tr>\n",
       "            <tr>\n",
       "                        <th id=\"T_c34feae4_6708_11eb_a10a_a08cfd7fcda7level0_row14\" class=\"row_heading level0 row14\" >48</th>\n",
       "                        <td id=\"T_c34feae4_6708_11eb_a10a_a08cfd7fcda7row14_col0\" class=\"data row14 col0\" >53</td>\n",
       "                        <td id=\"T_c34feae4_6708_11eb_a10a_a08cfd7fcda7row14_col1\" class=\"data row14 col1\" >0</td>\n",
       "                        <td id=\"T_c34feae4_6708_11eb_a10a_a08cfd7fcda7row14_col2\" class=\"data row14 col2\" >5</td>\n",
       "            </tr>\n",
       "            <tr>\n",
       "                        <th id=\"T_c34feae4_6708_11eb_a10a_a08cfd7fcda7level0_row15\" class=\"row_heading level0 row15\" >64</th>\n",
       "                        <td id=\"T_c34feae4_6708_11eb_a10a_a08cfd7fcda7row15_col0\" class=\"data row15 col0\" >58</td>\n",
       "                        <td id=\"T_c34feae4_6708_11eb_a10a_a08cfd7fcda7row15_col1\" class=\"data row15 col1\" >2</td>\n",
       "                        <td id=\"T_c34feae4_6708_11eb_a10a_a08cfd7fcda7row15_col2\" class=\"data row15 col2\" >5</td>\n",
       "            </tr>\n",
       "            <tr>\n",
       "                        <th id=\"T_c34feae4_6708_11eb_a10a_a08cfd7fcda7level0_row16\" class=\"row_heading level0 row16\" >44</th>\n",
       "                        <td id=\"T_c34feae4_6708_11eb_a10a_a08cfd7fcda7row16_col0\" class=\"data row16 col0\" >52</td>\n",
       "                        <td id=\"T_c34feae4_6708_11eb_a10a_a08cfd7fcda7row16_col1\" class=\"data row16 col1\" >0</td>\n",
       "                        <td id=\"T_c34feae4_6708_11eb_a10a_a08cfd7fcda7row16_col2\" class=\"data row16 col2\" >5</td>\n",
       "            </tr>\n",
       "            <tr>\n",
       "                        <th id=\"T_c34feae4_6708_11eb_a10a_a08cfd7fcda7level0_row17\" class=\"row_heading level0 row17\" >53</th>\n",
       "                        <td id=\"T_c34feae4_6708_11eb_a10a_a08cfd7fcda7row17_col0\" class=\"data row17 col0\" >55</td>\n",
       "                        <td id=\"T_c34feae4_6708_11eb_a10a_a08cfd7fcda7row17_col1\" class=\"data row17 col1\" >0</td>\n",
       "                        <td id=\"T_c34feae4_6708_11eb_a10a_a08cfd7fcda7row17_col2\" class=\"data row17 col2\" >5</td>\n",
       "            </tr>\n",
       "            <tr>\n",
       "                        <th id=\"T_c34feae4_6708_11eb_a10a_a08cfd7fcda7level0_row18\" class=\"row_heading level0 row18\" >83</th>\n",
       "                        <td id=\"T_c34feae4_6708_11eb_a10a_a08cfd7fcda7row18_col0\" class=\"data row18 col0\" >64</td>\n",
       "                        <td id=\"T_c34feae4_6708_11eb_a10a_a08cfd7fcda7row18_col1\" class=\"data row18 col1\" >0</td>\n",
       "                        <td id=\"T_c34feae4_6708_11eb_a10a_a08cfd7fcda7row18_col2\" class=\"data row18 col2\" >5</td>\n",
       "            </tr>\n",
       "            <tr>\n",
       "                        <th id=\"T_c34feae4_6708_11eb_a10a_a08cfd7fcda7level0_row19\" class=\"row_heading level0 row19\" >23</th>\n",
       "                        <td id=\"T_c34feae4_6708_11eb_a10a_a08cfd7fcda7row19_col0\" class=\"data row19 col0\" >44</td>\n",
       "                        <td id=\"T_c34feae4_6708_11eb_a10a_a08cfd7fcda7row19_col1\" class=\"data row19 col1\" >2</td>\n",
       "                        <td id=\"T_c34feae4_6708_11eb_a10a_a08cfd7fcda7row19_col2\" class=\"data row19 col2\" >5</td>\n",
       "            </tr>\n",
       "    </tbody></table>"
      ],
      "text/plain": [
       "<pandas.io.formats.style.Styler at 0x179b1b90>"
      ]
     },
     "execution_count": 87,
     "metadata": {},
     "output_type": "execute_result"
    }
   ],
   "source": [
    "a = df.groupby([\"Age\" ,\"Chest_pain\"])[\"Target\"].count().reset_index().sort_values(by = \"Target\", ascending = False)\n",
    "#a[\"Sex\"].replace({1:\"Male\", 0:\"Female\"}, inplace = True)\n",
    "a.head(20).style.background_gradient(cmap = \"Greys\")"
   ]
  },
  {
   "cell_type": "markdown",
   "metadata": {},
   "source": [
    "we can see that males above 50 having chest pains of type 0 are more susceptible to heart attacks than any other types"
   ]
  },
  {
   "cell_type": "code",
   "execution_count": null,
   "metadata": {},
   "outputs": [],
   "source": []
  },
  {
   "cell_type": "code",
   "execution_count": null,
   "metadata": {},
   "outputs": [],
   "source": []
  },
  {
   "cell_type": "code",
   "execution_count": null,
   "metadata": {},
   "outputs": [],
   "source": []
  }
 ],
 "metadata": {
  "kernelspec": {
   "display_name": "Python 3",
   "language": "python",
   "name": "python3"
  },
  "language_info": {
   "codemirror_mode": {
    "name": "ipython",
    "version": 3
   },
   "file_extension": ".py",
   "mimetype": "text/x-python",
   "name": "python",
   "nbconvert_exporter": "python",
   "pygments_lexer": "ipython3",
   "version": "3.8.8"
  }
 },
 "nbformat": 4,
 "nbformat_minor": 2
}
